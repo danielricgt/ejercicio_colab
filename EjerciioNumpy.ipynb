{
  "nbformat": 4,
  "nbformat_minor": 0,
  "metadata": {
    "colab": {
      "provenance": []
    },
    "kernelspec": {
      "name": "python3",
      "display_name": "Python 3"
    },
    "language_info": {
      "name": "python"
    }
  },
  "cells": [
    {
      "cell_type": "markdown",
      "source": [
        "# Ejercicio de edades e ingresos\n",
        "\n",
        "\n",
        "*   Generar una matriz de 3*3 de edades entre 20 y 50 años\n",
        "*   Generar una matriz de 3*3 de ingresos entre 2000 y 5000 miles de pesos\n",
        "*   Unir la data uno a uno en una matriz 9 * 2\n",
        "*   Filtrar aquellas filas cuya edad esta entre 20 y 30 años y cuyos ingresos estan entre 2000 y 5000\n",
        "\n",
        "\n",
        "\n",
        "\n",
        "\n",
        "\n",
        "\n",
        "\n",
        "\n",
        "---\n",
        "\n"
      ],
      "metadata": {
        "id": "lnmdppoy6bbi"
      }
    },
    {
      "cell_type": "markdown",
      "source": [
        "1. Generar una matriz de 3*3 de edades entre 20 y 50 años"
      ],
      "metadata": {
        "id": "C9NG1LrU7U7T"
      }
    },
    {
      "cell_type": "code",
      "source": [
        "import numpy as np\n",
        "print(np.__version__)"
      ],
      "metadata": {
        "colab": {
          "base_uri": "https://localhost:8080/"
        },
        "id": "c4L4sTEN7118",
        "outputId": "729424e6-80d1-465a-c217-0501407cffbc"
      },
      "execution_count": 100,
      "outputs": [
        {
          "output_type": "stream",
          "name": "stdout",
          "text": [
            "1.21.6\n"
          ]
        }
      ]
    },
    {
      "cell_type": "code",
      "source": [
        "mis_edades_aleatoreas = np.random.uniform(\n",
        "\n",
        "low=20,\n",
        "high=50,\n",
        "size= (3,3),\n",
        "\n",
        "\n",
        ")\n",
        "redondear= np.round(mis_edades_aleatoreas)\n",
        "\n",
        "redondear"
      ],
      "metadata": {
        "colab": {
          "base_uri": "https://localhost:8080/"
        },
        "id": "zZuNGP7Y7S_M",
        "outputId": "8e7b7bda-0c22-4914-e927-078f7a612387"
      },
      "execution_count": 101,
      "outputs": [
        {
          "output_type": "execute_result",
          "data": {
            "text/plain": [
              "array([[38., 25., 38.],\n",
              "       [25., 46., 36.],\n",
              "       [47., 23., 20.]])"
            ]
          },
          "metadata": {},
          "execution_count": 101
        }
      ]
    },
    {
      "cell_type": "markdown",
      "source": [
        " 2. Generar una matriz de 3*3 de ingresos entre 2000 y 5000 miles de pesos"
      ],
      "metadata": {
        "id": "nHOik-gU8oBy"
      }
    },
    {
      "cell_type": "code",
      "source": [
        "mis_ingresos_aleatoreas = np.random.uniform(\n",
        "\n",
        "low=2000,\n",
        "high=5000,\n",
        "size= (3,3),\n",
        "\n",
        "\n",
        ")\n",
        "redondear_ingresos= np.round(mis_ingresos_aleatoreas)\n",
        "\n",
        "redondear_ingresos"
      ],
      "metadata": {
        "colab": {
          "base_uri": "https://localhost:8080/"
        },
        "id": "Y3xm8ucF8mdT",
        "outputId": "eab484c7-5e27-4293-f456-a26e3f28fc33"
      },
      "execution_count": 102,
      "outputs": [
        {
          "output_type": "execute_result",
          "data": {
            "text/plain": [
              "array([[2473., 2674., 2237.],\n",
              "       [3195., 3426., 4780.],\n",
              "       [3838., 2205., 4031.]])"
            ]
          },
          "metadata": {},
          "execution_count": 102
        }
      ]
    },
    {
      "cell_type": "markdown",
      "source": [
        "3. Unir la data uno a uno en una matriz 9 * 2"
      ],
      "metadata": {
        "id": "OiRTRqWE9DAX"
      }
    },
    {
      "cell_type": "code",
      "source": [
        "filtro_1 = redondear_ingresos.reshape (9,1)\n",
        "filtro_1"
      ],
      "metadata": {
        "id": "AW5_8LWN_7mY",
        "colab": {
          "base_uri": "https://localhost:8080/"
        },
        "outputId": "8a851e1b-a2d2-4017-f27b-423d892aec48"
      },
      "execution_count": 103,
      "outputs": [
        {
          "output_type": "execute_result",
          "data": {
            "text/plain": [
              "array([[2473.],\n",
              "       [2674.],\n",
              "       [2237.],\n",
              "       [3195.],\n",
              "       [3426.],\n",
              "       [4780.],\n",
              "       [3838.],\n",
              "       [2205.],\n",
              "       [4031.]])"
            ]
          },
          "metadata": {},
          "execution_count": 103
        }
      ]
    },
    {
      "cell_type": "code",
      "source": [
        "filtro_2 = redondear.reshape (9,1)\n",
        "filtro_2"
      ],
      "metadata": {
        "id": "b5OyUlPMAmMe",
        "colab": {
          "base_uri": "https://localhost:8080/"
        },
        "outputId": "25f926dd-83ed-4889-af00-988ef5af9175"
      },
      "execution_count": 104,
      "outputs": [
        {
          "output_type": "execute_result",
          "data": {
            "text/plain": [
              "array([[38.],\n",
              "       [25.],\n",
              "       [38.],\n",
              "       [25.],\n",
              "       [46.],\n",
              "       [36.],\n",
              "       [47.],\n",
              "       [23.],\n",
              "       [20.]])"
            ]
          },
          "metadata": {},
          "execution_count": 104
        }
      ]
    },
    {
      "cell_type": "code",
      "source": [
        "\n",
        "a = filtro_1\n",
        "b = filtro_2\n",
        "ab=np.column_stack((a,b))\n",
        "display(\n",
        "    a,\n",
        "    b,\n",
        "    ab\n",
        "    \n",
        ")"
      ],
      "metadata": {
        "colab": {
          "base_uri": "https://localhost:8080/",
          "height": 486
        },
        "id": "UWiKQj1f9A8f",
        "outputId": "f2c8dbe3-513c-4405-eeab-82061f337342"
      },
      "execution_count": 105,
      "outputs": [
        {
          "output_type": "display_data",
          "data": {
            "text/plain": [
              "array([[2473.],\n",
              "       [2674.],\n",
              "       [2237.],\n",
              "       [3195.],\n",
              "       [3426.],\n",
              "       [4780.],\n",
              "       [3838.],\n",
              "       [2205.],\n",
              "       [4031.]])"
            ]
          },
          "metadata": {}
        },
        {
          "output_type": "display_data",
          "data": {
            "text/plain": [
              "array([[38.],\n",
              "       [25.],\n",
              "       [38.],\n",
              "       [25.],\n",
              "       [46.],\n",
              "       [36.],\n",
              "       [47.],\n",
              "       [23.],\n",
              "       [20.]])"
            ]
          },
          "metadata": {}
        },
        {
          "output_type": "display_data",
          "data": {
            "text/plain": [
              "array([[2473.,   38.],\n",
              "       [2674.,   25.],\n",
              "       [2237.,   38.],\n",
              "       [3195.,   25.],\n",
              "       [3426.,   46.],\n",
              "       [4780.,   36.],\n",
              "       [3838.,   47.],\n",
              "       [2205.,   23.],\n",
              "       [4031.,   20.]])"
            ]
          },
          "metadata": {}
        }
      ]
    },
    {
      "cell_type": "markdown",
      "source": [
        "\n",
        "4. Filtrar aquellas filas cuya edad esta entre 20 y 30 años y cuyos ingresos estan entre 2000 y 5000\n",
        "\n"
      ],
      "metadata": {
        "id": "CTjoOnLG-X71"
      }
    },
    {
      "cell_type": "markdown",
      "source": [
        "a.Filtrar aquellas filas cuyos ingresos estan entre 2000 y 5000"
      ],
      "metadata": {
        "id": "NE3Qp0ioY9q2"
      }
    },
    {
      "cell_type": "code",
      "source": [
        "print (a)\n",
        "for e in a:\n",
        "  print (3000<=e<=5000)"
      ],
      "metadata": {
        "colab": {
          "base_uri": "https://localhost:8080/"
        },
        "id": "CmdhbTO4HG8U",
        "outputId": "70d487d3-18aa-418a-9864-06f6f8b85ad5"
      },
      "execution_count": 119,
      "outputs": [
        {
          "output_type": "stream",
          "name": "stdout",
          "text": [
            "[[2473.]\n",
            " [2674.]\n",
            " [2237.]\n",
            " [3195.]\n",
            " [3426.]\n",
            " [4780.]\n",
            " [3838.]\n",
            " [2205.]\n",
            " [4031.]]\n",
            "[False]\n",
            "[False]\n",
            "[False]\n",
            "[False]\n",
            "[False]\n",
            "[ True]\n",
            "[False]\n",
            "[False]\n",
            "[ True]\n"
          ]
        }
      ]
    },
    {
      "cell_type": "markdown",
      "source": [
        "\n",
        "b. Filtrar aquellas filas cuya edad esta entre 20 y 30 años"
      ],
      "metadata": {
        "id": "6TXIwJPxZAzK"
      }
    },
    {
      "cell_type": "code",
      "execution_count": 107,
      "metadata": {
        "colab": {
          "base_uri": "https://localhost:8080/"
        },
        "id": "WnxHApkn6Q7j",
        "outputId": "ab9cbb1a-7f35-41a1-a5c6-1c39d90a7b83"
      },
      "outputs": [
        {
          "output_type": "stream",
          "name": "stdout",
          "text": [
            "[[38.]\n",
            " [25.]\n",
            " [38.]\n",
            " [25.]\n",
            " [46.]\n",
            " [36.]\n",
            " [47.]\n",
            " [23.]\n",
            " [20.]]\n",
            "[False]\n",
            "[ True]\n",
            "[False]\n",
            "[ True]\n",
            "[False]\n",
            "[False]\n",
            "[False]\n",
            "[ True]\n",
            "[ True]\n"
          ]
        }
      ],
      "source": [
        "print (b)\n",
        "for e in b:\n",
        "  print (20<=e<=30)"
      ]
    },
    {
      "cell_type": "code",
      "source": [
        "print (a)\n",
        "for e in a:\n",
        "  filtro_ingreso = print (2000<=e<=5000)\n",
        "\n",
        "print (b)\n",
        "for f in b:\n",
        "  filtro_edad=print (20<=f<=30)\n",
        "display(\n",
        "np.logical_and (e,f)\n",
        ")\n"
      ],
      "metadata": {
        "id": "1HxwYreuKX-X",
        "colab": {
          "base_uri": "https://localhost:8080/",
          "height": 659
        },
        "outputId": "5db6e558-ccf6-466f-ef47-2dd8d7bf8171"
      },
      "execution_count": 117,
      "outputs": [
        {
          "output_type": "stream",
          "name": "stdout",
          "text": [
            "[[2473.]\n",
            " [2674.]\n",
            " [2237.]\n",
            " [3195.]\n",
            " [3426.]\n",
            " [4780.]\n",
            " [3838.]\n",
            " [2205.]\n",
            " [4031.]]\n",
            "[ True]\n",
            "[ True]\n",
            "[ True]\n",
            "[ True]\n",
            "[ True]\n",
            "[ True]\n",
            "[ True]\n",
            "[ True]\n",
            "[ True]\n",
            "[[38.]\n",
            " [25.]\n",
            " [38.]\n",
            " [25.]\n",
            " [46.]\n",
            " [36.]\n",
            " [47.]\n",
            " [23.]\n",
            " [20.]]\n",
            "[False]\n",
            "[ True]\n",
            "[False]\n",
            "[ True]\n",
            "[False]\n",
            "[False]\n",
            "[False]\n",
            "[ True]\n",
            "[ True]\n"
          ]
        },
        {
          "output_type": "display_data",
          "data": {
            "text/plain": [
              "array([ True])"
            ]
          },
          "metadata": {}
        }
      ]
    }
  ]
}